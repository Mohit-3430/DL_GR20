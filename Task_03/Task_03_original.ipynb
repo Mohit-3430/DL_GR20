{
 "cells": [
  {
   "cell_type": "code",
   "execution_count": 1,
   "metadata": {
    "colab": {
     "base_uri": "https://localhost:8080/"
    },
    "id": "vPB7c2yYR0Jg",
    "outputId": "c8f9d525-d43b-423e-a2b8-631f8e066e47",
    "tags": []
   },
   "outputs": [],
   "source": [
    "import numpy as np\n",
    "\n",
    "X = np.array(([2, 9], [1, 5], [3, 6]), dtype=float)\n",
    "y = np.array(([92], [86], [89]), dtype=float)"
   ]
  },
  {
   "cell_type": "code",
   "execution_count": 2,
   "metadata": {},
   "outputs": [],
   "source": [
    "# Normalizing and scaling respectively\n",
    "X = X/np.amax(X, axis=0) #maximum of X array longitudinally\n",
    "y = y/100"
   ]
  },
  {
   "cell_type": "code",
   "execution_count": 3,
   "metadata": {
    "tags": []
   },
   "outputs": [
    {
     "data": {
      "text/plain": [
       "(array([[0.66666667, 1.        ],\n",
       "        [0.33333333, 0.55555556],\n",
       "        [1.        , 0.66666667]]),\n",
       " array([[0.92],\n",
       "        [0.86],\n",
       "        [0.89]]))"
      ]
     },
     "execution_count": 3,
     "metadata": {},
     "output_type": "execute_result"
    }
   ],
   "source": [
    "X, y"
   ]
  },
  {
   "cell_type": "code",
   "execution_count": 4,
   "metadata": {
    "tags": []
   },
   "outputs": [],
   "source": [
    "#Sigmoid Function\n",
    "def sigmoid (x):\n",
    "    return 1/(1 + np.exp(-x))\n",
    "\n",
    "#Derivative of Sigmoid Function\n",
    "def derivatives_sigmoid(x):\n",
    "    return sigmoid(x) * (1 - sigmoid(x))"
   ]
  },
  {
   "cell_type": "code",
   "execution_count": 5,
   "metadata": {},
   "outputs": [],
   "source": [
    "epoch=5\n",
    "lr=0.1"
   ]
  },
  {
   "cell_type": "code",
   "execution_count": 6,
   "metadata": {
    "tags": []
   },
   "outputs": [
    {
     "name": "stdout",
     "output_type": "stream",
     "text": [
      "-----------Epoch- 1 Starts----------\n",
      "Input: \n",
      "[[0.66666667 1.        ]\n",
      " [0.33333333 0.55555556]\n",
      " [1.         0.66666667]]\n",
      "Actual Output: \n",
      "[[0.92]\n",
      " [0.86]\n",
      " [0.89]]\n",
      "Predicted Output: \n",
      " [[0.83843984]\n",
      " [0.81311535]\n",
      " [0.83713594]]\n",
      "-----------Epoch- 1 Ends----------\n",
      "\n",
      "-----------Epoch- 2 Starts----------\n",
      "Input: \n",
      "[[0.66666667 1.        ]\n",
      " [0.33333333 0.55555556]\n",
      " [1.         0.66666667]]\n",
      "Actual Output: \n",
      "[[0.92]\n",
      " [0.86]\n",
      " [0.89]]\n",
      "Predicted Output: \n",
      " [[0.83940312]\n",
      " [0.81405987]\n",
      " [0.83809848]]\n",
      "-----------Epoch- 2 Ends----------\n",
      "\n",
      "-----------Epoch- 3 Starts----------\n",
      "Input: \n",
      "[[0.66666667 1.        ]\n",
      " [0.33333333 0.55555556]\n",
      " [1.         0.66666667]]\n",
      "Actual Output: \n",
      "[[0.92]\n",
      " [0.86]\n",
      " [0.89]]\n",
      "Predicted Output: \n",
      " [[0.84034693]\n",
      " [0.81498605]\n",
      " [0.8390416 ]]\n",
      "-----------Epoch- 3 Ends----------\n",
      "\n",
      "-----------Epoch- 4 Starts----------\n",
      "Input: \n",
      "[[0.66666667 1.        ]\n",
      " [0.33333333 0.55555556]\n",
      " [1.         0.66666667]]\n",
      "Actual Output: \n",
      "[[0.92]\n",
      " [0.86]\n",
      " [0.89]]\n",
      "Predicted Output: \n",
      " [[0.84127177]\n",
      " [0.81589437]\n",
      " [0.8399658 ]]\n",
      "-----------Epoch- 4 Ends----------\n",
      "\n",
      "-----------Epoch- 5 Starts----------\n",
      "Input: \n",
      "[[0.66666667 1.        ]\n",
      " [0.33333333 0.55555556]\n",
      " [1.         0.66666667]]\n",
      "Actual Output: \n",
      "[[0.92]\n",
      " [0.86]\n",
      " [0.89]]\n",
      "Predicted Output: \n",
      " [[0.84217815]\n",
      " [0.81678526]\n",
      " [0.84087159]]\n",
      "-----------Epoch- 5 Ends----------\n",
      "\n",
      "Input: \n",
      "[[0.66666667 1.        ]\n",
      " [0.33333333 0.55555556]\n",
      " [1.         0.66666667]]\n",
      "Actual Output: \n",
      "[[0.92]\n",
      " [0.86]\n",
      " [0.89]]\n",
      "Predicted Output: \n",
      " [[0.84217815]\n",
      " [0.81678526]\n",
      " [0.84087159]]\n"
     ]
    }
   ],
   "source": [
    "inp_l_neurons = 2\n",
    "hidd_l_neurons = 3\n",
    "op_l_neurons = 1\n",
    "\n",
    "wh=np.random.uniform(size=(inp_l_neurons,hidd_l_neurons))\n",
    "bh=np.random.uniform(size=(1,hidd_l_neurons))\n",
    "wout=np.random.uniform(size=(hidd_l_neurons,op_l_neurons))\n",
    "bout=np.random.uniform(size=(1,op_l_neurons))\n",
    "\n",
    "#draws a random range of numbers uniformly of dim x*y\n",
    "for i in range(epoch):\n",
    "    #Forward Propogation\n",
    "    h_inp_i=np.dot(X,wh)\n",
    "    h_inp=h_inp_i + bh\n",
    "    hlayer_op = sigmoid(h_inp)\n",
    "    \n",
    "    outinp_i=np.dot(hlayer_op,wout)\n",
    "    outinp= outinp_i+bout\n",
    "    output = sigmoid(outinp)\n",
    "\n",
    "   # Backpropagation\n",
    "    EO = y - output\n",
    "    d_output = EO * derivatives_sigmoid(output)\n",
    "    d_hiddenlayer = (d_output.dot(wout.T)) * derivatives_sigmoid(hlayer_op)\n",
    "\n",
    "    wout += hlayer_op.T.dot(d_output) *lr   # dotproduct of nextlayererror and currentlayerop\n",
    "    wh += X.T.dot(d_hiddenlayer) *lr\n",
    "\n",
    "    print (\"-----------Epoch-\", i+1, \"Starts----------\")\n",
    "    print(\"Input: \\n\" + str(X))\n",
    "    print(\"Actual Output: \\n\" + str(y))\n",
    "    print(\"Predicted Output: \\n\" ,output)\n",
    "    print (\"-----------Epoch-\", i+1, \"Ends----------\\n\")\n",
    "\n",
    "print(\"Input: \\n\" + str(X))\n",
    "print(\"Actual Output: \\n\" + str(y))\n",
    "print(\"Predicted Output: \\n\" ,output)"
   ]
  }
 ],
 "metadata": {
  "colab": {
   "provenance": []
  },
  "kernelspec": {
   "display_name": "mp:Python",
   "language": "python",
   "name": "conda-env-mp-py"
  },
  "language_info": {
   "codemirror_mode": {
    "name": "ipython",
    "version": 3
   },
   "file_extension": ".py",
   "mimetype": "text/x-python",
   "name": "python",
   "nbconvert_exporter": "python",
   "pygments_lexer": "ipython3",
   "version": "3.10.10"
  }
 },
 "nbformat": 4,
 "nbformat_minor": 4
}
