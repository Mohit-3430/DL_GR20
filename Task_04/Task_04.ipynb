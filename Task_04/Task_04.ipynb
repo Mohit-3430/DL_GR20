{
 "cells": [
  {
   "cell_type": "code",
   "execution_count": 4,
   "id": "6e988e6a-2352-4a17-8b53-bddbb5edc95e",
   "metadata": {},
   "outputs": [],
   "source": [
    "import numpy as np\n",
    "from tensorflow.keras.datasets import imdb\n",
    "from tensorflow.keras.preprocessing.sequence import pad_sequences\n",
    "from tensorflow.keras.models import Sequential\n",
    "from tensorflow.keras.layers import Embedding, GRU, LSTM, Dense"
   ]
  },
  {
   "cell_type": "code",
   "execution_count": 5,
   "id": "8d286fc9-969b-42ab-a12b-4ba986b4493f",
   "metadata": {
    "tags": []
   },
   "outputs": [],
   "source": [
    "# Load IMDb dataset\n",
    "vocab_size = 10000\n",
    "max_length = 200\n",
    "(X_train, y_train), (X_test, y_test) = imdb.load_data(num_words=vocab_size)\n",
    "X_train = pad_sequences(X_train, maxlen=max_length)\n",
    "X_test = pad_sequences(X_test, maxlen=max_length)"
   ]
  },
  {
   "cell_type": "code",
   "execution_count": 6,
   "id": "5128ecba-9090-4717-9020-e670ca91418f",
   "metadata": {
    "tags": []
   },
   "outputs": [
    {
     "name": "stderr",
     "output_type": "stream",
     "text": [
      "2023-10-27 09:29:58.660673: W tensorflow/compiler/xla/stream_executor/platform/default/dso_loader.cc:64] Could not load dynamic library 'libcuda.so.1'; dlerror: libcuda.so.1: cannot open shared object file: No such file or directory\n",
      "2023-10-27 09:29:58.660706: W tensorflow/compiler/xla/stream_executor/cuda/cuda_driver.cc:265] failed call to cuInit: UNKNOWN ERROR (303)\n",
      "2023-10-27 09:29:58.660728: I tensorflow/compiler/xla/stream_executor/cuda/cuda_diagnostics.cc:156] kernel driver does not appear to be running on this host (default): /proc/driver/nvidia/version does not exist\n",
      "2023-10-27 09:29:58.660946: I tensorflow/core/platform/cpu_feature_guard.cc:193] This TensorFlow binary is optimized with oneAPI Deep Neural Network Library (oneDNN) to use the following CPU instructions in performance-critical operations:  AVX2 AVX512F FMA\n",
      "To enable them in other operations, rebuild TensorFlow with the appropriate compiler flags.\n"
     ]
    }
   ],
   "source": [
    "# Build GRU-based model\n",
    "gru_model = Sequential()\n",
    "gru_model.add(Embedding(input_dim=vocab_size, output_dim=128, input_length=max_length))\n",
    "gru_model.add(GRU(128))\n",
    "gru_model.add(Dense(1, activation='sigmoid'))\n",
    "gru_model.compile(loss='binary_crossentropy', optimizer='adam', metrics=['accuracy'])\n"
   ]
  },
  {
   "cell_type": "code",
   "execution_count": null,
   "id": "ecc8f132-0428-4c67-89ca-5bfc92cac84e",
   "metadata": {
    "tags": []
   },
   "outputs": [
    {
     "name": "stdout",
     "output_type": "stream",
     "text": [
      "Epoch 1/3\n",
      "391/391 [==============================] - ETA: 0s - loss: 0.4213 - accuracy: 0.7987"
     ]
    }
   ],
   "source": [
    "# Train GRU model\n",
    "gru_model.fit(X_train, y_train, validation_data=(X_test, y_test), epochs=3, batch_size=64)\n",
    "\n",
    "# Build LSTM-based model\n",
    "lstm_model = Sequential()\n",
    "lstm_model.add(Embedding(input_dim=vocab_size, output_dim=128, input_length=max_length))\n",
    "lstm_model.add(LSTM(128))\n",
    "lstm_model.add(Dense(1, activation='sigmoid'))\n",
    "lstm_model.compile(loss='binary_crossentropy', optimizer='adam', metrics=['accuracy'])\n",
    "\n",
    "# Train LSTM model\n",
    "lstm_model.fit(X_train, y_train, validation_data=(X_test, y_test), epochs=3, batch_size=64)"
   ]
  },
  {
   "cell_type": "code",
   "execution_count": null,
   "id": "bed13479-3d4c-4c55-af4a-99a92376a6b3",
   "metadata": {
    "tags": []
   },
   "outputs": [],
   "source": [
    "# Evaluate models\n",
    "gru_score = gru_model.evaluate(X_test, y_test, verbose=0)\n",
    "lstm_score = lstm_model.evaluate(X_test, y_test, verbose=0)\n",
    "\n",
    "print(\"GRU Model - Accuracy: {:.2f}%\".format(gru_score[1] * 100))\n",
    "print(\"LSTM Model - Accuracy: {:.2f}%\".format(lstm_score[1] * 100))"
   ]
  }
 ],
 "metadata": {
  "kernelspec": {
   "display_name": "mp:Python",
   "language": "python",
   "name": "conda-env-mp-py"
  },
  "language_info": {
   "codemirror_mode": {
    "name": "ipython",
    "version": 3
   },
   "file_extension": ".py",
   "mimetype": "text/x-python",
   "name": "python",
   "nbconvert_exporter": "python",
   "pygments_lexer": "ipython3",
   "version": "3.10.10"
  }
 },
 "nbformat": 4,
 "nbformat_minor": 5
}
