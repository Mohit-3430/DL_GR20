{
 "cells": [
  {
   "cell_type": "code",
   "execution_count": 1,
   "id": "3529b916-5be2-41af-8641-10e673557d9d",
   "metadata": {
    "tags": []
   },
   "outputs": [
    {
     "name": "stderr",
     "output_type": "stream",
     "text": [
      "2023-11-02 09:42:06.531415: I tensorflow/core/platform/cpu_feature_guard.cc:193] This TensorFlow binary is optimized with oneAPI Deep Neural Network Library (oneDNN) to use the following CPU instructions in performance-critical operations:  AVX2 AVX512F FMA\n",
      "To enable them in other operations, rebuild TensorFlow with the appropriate compiler flags.\n",
      "2023-11-02 09:42:06.698040: W tensorflow/compiler/xla/stream_executor/platform/default/dso_loader.cc:64] Could not load dynamic library 'libcudart.so.11.0'; dlerror: libcudart.so.11.0: cannot open shared object file: No such file or directory\n",
      "2023-11-02 09:42:06.698061: I tensorflow/compiler/xla/stream_executor/cuda/cudart_stub.cc:29] Ignore above cudart dlerror if you do not have a GPU set up on your machine.\n",
      "2023-11-02 09:42:07.439194: W tensorflow/compiler/xla/stream_executor/platform/default/dso_loader.cc:64] Could not load dynamic library 'libnvinfer.so.7'; dlerror: libnvinfer.so.7: cannot open shared object file: No such file or directory\n",
      "2023-11-02 09:42:07.439278: W tensorflow/compiler/xla/stream_executor/platform/default/dso_loader.cc:64] Could not load dynamic library 'libnvinfer_plugin.so.7'; dlerror: libnvinfer_plugin.so.7: cannot open shared object file: No such file or directory\n",
      "2023-11-02 09:42:07.439287: W tensorflow/compiler/tf2tensorrt/utils/py_utils.cc:38] TF-TRT Warning: Cannot dlopen some TensorRT libraries. If you would like to use Nvidia GPU with TensorRT, please make sure the missing libraries mentioned above are installed properly.\n"
     ]
    }
   ],
   "source": [
    "import numpy as np\n",
    "from tensorflow import keras\n",
    "from keras.datasets import imdb\n",
    "from keras.models import Sequential\n",
    "from keras.layers import Embedding, SimpleRNN, Dense\n",
    "from keras.utils import pad_sequences"
   ]
  },
  {
   "cell_type": "code",
   "execution_count": 2,
   "id": "292bfccc-03ad-4e48-9f75-12743584bc23",
   "metadata": {
    "tags": []
   },
   "outputs": [],
   "source": [
    "# Set parameters\n",
    "max_features = 10000  # Number of most frequent words to use\n",
    "maxlen = 100  # Maximum sequence length\n",
    "batch_size = 32"
   ]
  },
  {
   "cell_type": "code",
   "execution_count": 3,
   "id": "3e425c41-e797-484b-83ea-3b0a93503d4f",
   "metadata": {
    "tags": []
   },
   "outputs": [],
   "source": [
    "(input_train, y_train), (input_test, y_test) = imdb.load_data(num_words=max_features)"
   ]
  },
  {
   "cell_type": "code",
   "execution_count": 4,
   "id": "fc74286a-9523-4388-bf3d-f8f8e1d58bd0",
   "metadata": {
    "tags": []
   },
   "outputs": [
    {
     "name": "stdout",
     "output_type": "stream",
     "text": [
      "Input train shape: (25000, 100)\n",
      "Input test shape: (25000, 100)\n"
     ]
    }
   ],
   "source": [
    "input_train = pad_sequences(input_train, maxlen=maxlen)\n",
    "input_test = pad_sequences(input_test, maxlen=maxlen)\n",
    "print('Input train shape:', input_train.shape)\n",
    "print('Input test shape:', input_test.shape)"
   ]
  },
  {
   "cell_type": "code",
   "execution_count": 5,
   "id": "2ed03c31-60dc-4962-840e-28e98371f6b0",
   "metadata": {
    "tags": []
   },
   "outputs": [
    {
     "name": "stderr",
     "output_type": "stream",
     "text": [
      "2023-11-02 09:42:13.128382: W tensorflow/compiler/xla/stream_executor/platform/default/dso_loader.cc:64] Could not load dynamic library 'libcuda.so.1'; dlerror: libcuda.so.1: cannot open shared object file: No such file or directory\n",
      "2023-11-02 09:42:13.128418: W tensorflow/compiler/xla/stream_executor/cuda/cuda_driver.cc:265] failed call to cuInit: UNKNOWN ERROR (303)\n",
      "2023-11-02 09:42:13.128444: I tensorflow/compiler/xla/stream_executor/cuda/cuda_diagnostics.cc:156] kernel driver does not appear to be running on this host (default): /proc/driver/nvidia/version does not exist\n",
      "2023-11-02 09:42:13.128677: I tensorflow/core/platform/cpu_feature_guard.cc:193] This TensorFlow binary is optimized with oneAPI Deep Neural Network Library (oneDNN) to use the following CPU instructions in performance-critical operations:  AVX2 AVX512F FMA\n",
      "To enable them in other operations, rebuild TensorFlow with the appropriate compiler flags.\n"
     ]
    }
   ],
   "source": [
    "model = Sequential()\n",
    "model.add(Embedding(max_features, 32))\n",
    "model.add(SimpleRNN(32))\n",
    "model.add(Dense(1, activation='sigmoid'))\n",
    "\n",
    "model.compile(optimizer='adam', loss='binary_crossentropy', metrics=['accuracy'])"
   ]
  },
  {
   "cell_type": "code",
   "execution_count": null,
   "id": "bc80b1e2-a700-4ee7-b8b9-189752cc470c",
   "metadata": {
    "tags": []
   },
   "outputs": [
    {
     "name": "stdout",
     "output_type": "stream",
     "text": [
      "Epoch 1/10\n",
      "625/625 [==============================] - 16s 24ms/step - loss: 0.5212 - accuracy: 0.7246 - val_loss: 0.4115 - val_accuracy: 0.8214\n",
      "Epoch 2/10\n",
      "625/625 [==============================] - 15s 24ms/step - loss: 0.3359 - accuracy: 0.8616 - val_loss: 0.4558 - val_accuracy: 0.7768\n",
      "Epoch 3/10\n",
      "625/625 [==============================] - 15s 24ms/step - loss: 0.2285 - accuracy: 0.9127 - val_loss: 0.4564 - val_accuracy: 0.8124\n",
      "Epoch 4/10\n",
      "625/625 [==============================] - 15s 25ms/step - loss: 0.1197 - accuracy: 0.9596 - val_loss: 0.5518 - val_accuracy: 0.8062\n",
      "Epoch 5/10\n",
      "625/625 [==============================] - 14s 23ms/step - loss: 0.0643 - accuracy: 0.9791 - val_loss: 0.6533 - val_accuracy: 0.7998\n",
      "Epoch 6/10\n",
      "625/625 [==============================] - 15s 24ms/step - loss: 0.0352 - accuracy: 0.9888 - val_loss: 0.7426 - val_accuracy: 0.8040\n",
      "Epoch 7/10\n",
      "625/625 [==============================] - 14s 23ms/step - loss: 0.0195 - accuracy: 0.9947 - val_loss: 0.8827 - val_accuracy: 0.7612\n",
      "Epoch 8/10\n",
      "625/625 [==============================] - 15s 24ms/step - loss: 0.0275 - accuracy: 0.9913 - val_loss: 0.8466 - val_accuracy: 0.8018\n",
      "Epoch 9/10\n",
      "240/625 [==========>...................] - ETA: 8s - loss: 0.0216 - accuracy: 0.9935"
     ]
    }
   ],
   "source": [
    "model.fit(input_train, y_train, epochs=10, batch_size=batch_size, validation_split=0.2)"
   ]
  },
  {
   "cell_type": "code",
   "execution_count": null,
   "id": "4030efbd-67d1-4176-934d-eb3daf6c506b",
   "metadata": {
    "tags": []
   },
   "outputs": [],
   "source": [
    "loss, accuracy = model.evaluate(input_test, y_test, batch_size=batch_size)"
   ]
  }
 ],
 "metadata": {
  "kernelspec": {
   "display_name": "mp:Python",
   "language": "python",
   "name": "conda-env-mp-py"
  },
  "language_info": {
   "codemirror_mode": {
    "name": "ipython",
    "version": 3
   },
   "file_extension": ".py",
   "mimetype": "text/x-python",
   "name": "python",
   "nbconvert_exporter": "python",
   "pygments_lexer": "ipython3",
   "version": "3.10.10"
  }
 },
 "nbformat": 4,
 "nbformat_minor": 5
}
