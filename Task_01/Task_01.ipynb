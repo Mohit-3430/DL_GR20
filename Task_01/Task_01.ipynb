{
 "cells": [
  {
   "cell_type": "code",
   "execution_count": 1,
   "metadata": {
    "id": "dc4akk2-zmqK",
    "tags": []
   },
   "outputs": [],
   "source": [
    "from sklearn.datasets import load_iris\n",
    "from sklearn.model_selection import train_test_split\n",
    "import numpy as np\n",
    "import matplotlib.pyplot as plt\n",
    "%matplotlib inline"
   ]
  },
  {
   "cell_type": "code",
   "execution_count": 2,
   "metadata": {
    "colab": {
     "base_uri": "https://localhost:8080/"
    },
    "id": "3PBNQpF11ma_",
    "outputId": "dc5d4d6f-c245-4355-aa3f-ceda5ce3fdb1",
    "tags": []
   },
   "outputs": [
    {
     "name": "stdout",
     "output_type": "stream",
     "text": [
      "['sepal length (cm)', 'sepal width (cm)', 'petal length (cm)', 'petal width (cm)']\n"
     ]
    }
   ],
   "source": [
    "iris = load_iris()\n",
    "print(iris.feature_names)"
   ]
  },
  {
   "cell_type": "code",
   "execution_count": 3,
   "metadata": {
    "colab": {
     "base_uri": "https://localhost:8080/"
    },
    "id": "Mp0E7M611us7",
    "outputId": "22500c0b-e89a-4a2a-9273-bdad92c54632",
    "tags": []
   },
   "outputs": [
    {
     "name": "stdout",
     "output_type": "stream",
     "text": [
      "['setosa' 'versicolor' 'virginica']\n"
     ]
    }
   ],
   "source": [
    "print(iris.target_names)"
   ]
  },
  {
   "cell_type": "code",
   "execution_count": 4,
   "metadata": {
    "colab": {
     "base_uri": "https://localhost:8080/"
    },
    "id": "shjcDTwB19lt",
    "outputId": "e3578eb9-726d-484c-9817-13870aca2e81",
    "tags": []
   },
   "outputs": [
    {
     "name": "stdout",
     "output_type": "stream",
     "text": [
      "(150, 4) (150,)\n"
     ]
    }
   ],
   "source": [
    "X = iris.data\n",
    "y = iris.target\n",
    "print(X.shape, y.shape)"
   ]
  },
  {
   "cell_type": "code",
   "execution_count": 5,
   "metadata": {
    "colab": {
     "base_uri": "https://localhost:8080/"
    },
    "id": "gtE6MvGv2m6i",
    "outputId": "f065061d-48ea-4fa0-ef80-6cd9ffc68ce3",
    "tags": []
   },
   "outputs": [
    {
     "data": {
      "text/plain": [
       "array([0, 1, 2])"
      ]
     },
     "execution_count": 5,
     "metadata": {},
     "output_type": "execute_result"
    }
   ],
   "source": [
    "np.unique(y)"
   ]
  },
  {
   "cell_type": "code",
   "execution_count": 6,
   "metadata": {
    "id": "JGIvRZYa22wR",
    "tags": []
   },
   "outputs": [],
   "source": [
    "mask = np.where((y==0)|(y==1))\n",
    "X= X[mask][:,[0,2]]\n",
    "y = y[mask]"
   ]
  },
  {
   "cell_type": "code",
   "execution_count": 7,
   "metadata": {
    "colab": {
     "base_uri": "https://localhost:8080/"
    },
    "id": "lh-M4d8C3pbh",
    "outputId": "937392d6-38e8-4b54-c933-48df643c2491",
    "tags": []
   },
   "outputs": [
    {
     "name": "stdout",
     "output_type": "stream",
     "text": [
      "[0 1]\n"
     ]
    }
   ],
   "source": [
    "print(np.unique(y))"
   ]
  },
  {
   "cell_type": "code",
   "execution_count": 8,
   "metadata": {
    "colab": {
     "base_uri": "https://localhost:8080/"
    },
    "id": "hu8-HCxm3rT8",
    "outputId": "b31a52f5-d74d-42ac-8d2d-20cf2bdb486d",
    "tags": []
   },
   "outputs": [
    {
     "name": "stdout",
     "output_type": "stream",
     "text": [
      "(100, 2) (100,)\n"
     ]
    }
   ],
   "source": [
    "print(X.shape, y.shape)"
   ]
  },
  {
   "cell_type": "code",
   "execution_count": 9,
   "metadata": {
    "id": "Kg_JgwTS3yzI",
    "tags": []
   },
   "outputs": [],
   "source": [
    "setosas = X[np.where(y==0)]\n",
    "versicolors = X[np.where(y==1)]"
   ]
  },
  {
   "cell_type": "code",
   "execution_count": 10,
   "metadata": {
    "colab": {
     "base_uri": "https://localhost:8080/",
     "height": 296
    },
    "id": "c_yxzEu64IQr",
    "outputId": "fb57e89e-3f85-43e1-cff5-271dd2dd33e4",
    "tags": []
   },
   "outputs": [
    {
     "data": {
      "text/plain": [
       "<matplotlib.legend.Legend at 0x7f729a3d2140>"
      ]
     },
     "execution_count": 10,
     "metadata": {},
     "output_type": "execute_result"
    },
    {
     "data": {
      "image/png": "[encoded data removed]",
      "text/plain": [
       "<Figure size 640x480 with 1 Axes>"
      ]
     },
     "metadata": {},
     "output_type": "display_data"
    }
   ],
   "source": [
    "plt.scatter(setosas[:,0], setosas[:,1], color='r', label='setosa')\n",
    "plt.scatter(versicolors[:,0], versicolors[:,1], color='b', label='versicolor')\n",
    "plt.xlabel('sepal length')\n",
    "plt.ylabel('petal length')\n",
    "plt.legend()"
   ]
  },
  {
   "cell_type": "code",
   "execution_count": 11,
   "metadata": {
    "colab": {
     "base_uri": "https://localhost:8080/"
    },
    "id": "KS-9MIes4pqo",
    "outputId": "2e92b014-7ab5-46d3-c021-5930e8da8b69",
    "tags": []
   },
   "outputs": [
    {
     "name": "stdout",
     "output_type": "stream",
     "text": [
      "(100, 2) (100,)\n"
     ]
    }
   ],
   "source": [
    "print(X.shape, y.shape)"
   ]
  },
  {
   "cell_type": "code",
   "execution_count": 12,
   "metadata": {
    "colab": {
     "base_uri": "https://localhost:8080/"
    },
    "id": "LS3AhtxCW_1j",
    "outputId": "9979dfe4-5a82-438b-8f27-7a74494bdc7b",
    "tags": []
   },
   "outputs": [
    {
     "name": "stdout",
     "output_type": "stream",
     "text": [
      "(75, 2) (75,)\n",
      "(25, 2) (25,)\n"
     ]
    }
   ],
   "source": [
    "X_train,X_test, y_train,y_test = train_test_split(X,y,test_size=0.25, shuffle=True)\n",
    "print(X_train.shape, y_train.shape)\n",
    "print(X_test.shape, y_test.shape)"
   ]
  },
  {
   "cell_type": "code",
   "execution_count": 24,
   "metadata": {
    "id": "CTXhiMi546WH",
    "tags": []
   },
   "outputs": [],
   "source": [
    "import sys\n",
    "\n",
    "class Perceptron(object):\n",
    "\n",
    "  def __init__(self, input_dim):\n",
    "    self.weights = np.random.normal(loc=0.0, scale=1.0, size=input_dim)\n",
    "    self.bias = np.random.normal(loc=0.0, scale=1.0, size=1)\n",
    "\n",
    "  def activation(self, pred):\n",
    "    return np.where(pred >= 0, 1, 0)\n",
    "\n",
    "  def predict(self, data):\n",
    "    return self.activation(np.dot(data, self.weights.T) + self.bias)\n",
    "\n",
    "  def accuracy(self, features, targets):\n",
    "    predictions = self.predict(features)\n",
    "    return (predictions == targets).mean()\n",
    "\n",
    "  def train(self, xtrain, ytrain, xtest, ytest, epochs, lr=0.01):\n",
    "    losses = []\n",
    "    train_accuracies = []\n",
    "    test_accuracies = []\n",
    "    for e in range(1, epochs + 1):\n",
    "      epoch_loss = 0\n",
    "      predictions = []\n",
    "      for data, target in zip(xtrain, ytrain):\n",
    "        pred = self.predict(data)\n",
    "        error = target - pred\n",
    "        update = lr * error\n",
    "        epoch_loss += error ** 2\n",
    "        self.weights += update * data\n",
    "        self.bias += update\n",
    "        \n",
    "      train_acc = self.accuracy(xtrain, ytrain)\n",
    "      test_acc = self.accuracy(xtest, ytest)\n",
    "      train_accuracies.append(train_acc)\n",
    "      test_accuracies.append(test_acc)\n",
    "      losses.append(epoch_loss)\n",
    "\n",
    "      print(f\"\\rEpoch {e}/{epochs}, Loss : {epoch_loss}, Train Acc : {train_acc}, Test Acc : {test_acc}\", end=\"\")\n",
    "      sys.stdout.flush()\n",
    "\n",
    "    return {'losses': losses, 'train_acc': train_accuracies, 'test_acc': test_accuracies}"
   ]
  },
  {
   "cell_type": "code",
   "execution_count": 25,
   "metadata": {
    "colab": {
     "base_uri": "https://localhost:8080/"
    },
    "id": "YIzHZ-Rc8Gb-",
    "outputId": "6a2ce626-3832-4db1-e8c3-cc3dc5185c35",
    "tags": []
   },
   "outputs": [
    {
     "name": "stdout",
     "output_type": "stream",
     "text": [
      "Epoch 350/350, Loss : [0], Train Acc : 1.0, Test Acc : 0.96est Acc : 0.968"
     ]
    }
   ],
   "source": [
    "p = Perceptron(input_dim=2)\n",
    "history = p.train(X_train,y_train, X_test, y_test, epochs=350, lr=0.001)"
   ]
  },
  {
   "cell_type": "code",
   "execution_count": 18,
   "metadata": {
    "colab": {
     "base_uri": "https://localhost:8080/"
    },
    "id": "-XjdFMX08ZZO",
    "outputId": "9a055fc8-1d8e-416e-c0c0-83892805ab20",
    "tags": []
   },
   "outputs": [
    {
     "name": "stdout",
     "output_type": "stream",
     "text": [
      "[ 0.06186695 -0.39976024] [-0.49574466]\n"
     ]
    }
   ],
   "source": [
    "print(p.weights, p.bias)"
   ]
  },
  {
   "cell_type": "code",
   "execution_count": 26,
   "metadata": {
    "colab": {
     "base_uri": "https://localhost:8080/",
     "height": 351
    },
    "id": "dNtzDqll80-n",
    "outputId": "d136397d-2b5b-442f-ee9c-238578f010af",
    "tags": []
   },
   "outputs": [
    {
     "data": {
      "text/plain": [
       "Text(0, 0.5, 'accuracy')"
      ]
     },
     "execution_count": 26,
     "metadata": {},
     "output_type": "execute_result"
    },
    {
     "data": {
      "image/png": "[encoded data removed]",
      "text/plain": [
       "<Figure size 1500x500 with 2 Axes>"
      ]
     },
     "metadata": {},
     "output_type": "display_data"
    }
   ],
   "source": [
    "fig = plt.figure(figsize=[15,5])\n",
    "\n",
    "ax1 = fig.add_subplot(121)\n",
    "ax1.plot(history['losses'], c='r')\n",
    "ax1.set_xlabel('epoch')\n",
    "ax1.set_ylabel('loss')\n",
    "\n",
    "ax2 = fig.add_subplot(122)\n",
    "ax2.plot(history['train_acc'], c='b', label='train_acc')\n",
    "ax2.plot(history['test_acc'], c='g', label='test_acc')\n",
    "ax2.legend()\n",
    "ax2.set_xlabel('epochs')\n",
    "ax2.set_ylabel('accuracy')\n"
   ]
  },
  {
   "cell_type": "code",
   "execution_count": 29,
   "metadata": {
    "colab": {
     "base_uri": "https://localhost:8080/",
     "height": 300
    },
    "id": "R6NDfhDZJ9cL",
    "outputId": "ba3d6033-abe7-414b-b8af-504b3fd8252c",
    "tags": []
   },
   "outputs": [
    {
     "data": {
      "image/png": "[encoded data removed]",
      "text/plain": [
       "<Figure size 640x480 with 1 Axes>"
      ]
     },
     "metadata": {},
     "output_type": "display_data"
    }
   ],
   "source": [
    "from mlxtend.plotting import plot_decision_regions\n",
    "_ = plot_decision_regions(X,y, clf=p)"
   ]
  }
 ],
 "metadata": {
  "colab": {
   "provenance": []
  },
  "kernelspec": {
   "display_name": "mp:Python",
   "language": "python",
   "name": "conda-env-mp-py"
  },
  "language_info": {
   "codemirror_mode": {
    "name": "ipython",
    "version": 3
   },
   "file_extension": ".py",
   "mimetype": "text/x-python",
   "name": "python",
   "nbconvert_exporter": "python",
   "pygments_lexer": "ipython3",
   "version": "3.10.10"
  }
 },
 "nbformat": 4,
 "nbformat_minor": 4
}
